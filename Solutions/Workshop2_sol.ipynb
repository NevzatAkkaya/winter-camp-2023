{
 "cells": [
  {
   "cell_type": "markdown",
   "id": "8b9e03ca",
   "metadata": {},
   "source": [
    "Prepared by: Ömer Coşkun <br>\n",
    "*Quick note: This notebook is prepared to show how an acceptable solution should look like. Better solutions are always possible.*                         "
   ]
  },
  {
   "cell_type": "code",
   "execution_count": 1,
   "id": "a6f8f6d7",
   "metadata": {},
   "outputs": [],
   "source": [
    "import numpy as np\n",
    "import pickle\n",
    "import matplotlib.pyplot as plt\n",
    "\n",
    "# true_w = np.array([0.3, 1.55, 2.3, -0.4, -3.1, 3.3, 1.1])\n",
    "# d = len(true_w)\n",
    "# \n",
    "# points = []\n",
    "# for i in range(100000):\n",
    "#     x1, x2, x3, x4, x5 = np.random.randn(5)\n",
    "#     y = (0.3 * x1) + (1.55 * x1**2) + (2.3 * x2) - (0.4 * x3) - (3.1 * x4) + (3.3 * x5) + 1.1 + np.random.randn()\n",
    "#     points.append(((x1, x2, x3, x4, x5), y))\n",
    "# \n",
    "# with open(\"dataset.pkl\", \"wb\") as file:\n",
    "#     pickle.dump(points, file)"
   ]
  },
  {
   "cell_type": "markdown",
   "id": "682f0cd3",
   "metadata": {},
   "source": [
    "## Loading and reshaping the dataset"
   ]
  },
  {
   "cell_type": "code",
   "execution_count": 2,
   "id": "5268ed14",
   "metadata": {
    "scrolled": true
   },
   "outputs": [
    {
     "name": "stdout",
     "output_type": "stream",
     "text": [
      "(100000, 11)\n"
     ]
    }
   ],
   "source": [
    "with open(\"dataset.pkl\", \"rb\") as file:\n",
    "    points = pickle.load(file)\n",
    "    \n",
    "x1, x2, x3, x4, x5, y_true = [], [], [], [], [], []\n",
    "for x, y in points:\n",
    "    x1.append(x[0])\n",
    "    x2.append(x[1])\n",
    "    x3.append(x[2])\n",
    "    x4.append(x[3])\n",
    "    x5.append(x[4])\n",
    "    y_true.append(y)\n",
    "\n",
    "x1 = np.array(x1)\n",
    "x2 = np.array(x2)\n",
    "x3 = np.array(x3)\n",
    "x4 = np.array(x4)\n",
    "x5 = np.array(x5)\n",
    "\n",
    "x1_sq = x1**2\n",
    "x2_sq = x2**2\n",
    "x3_sq = x3**2\n",
    "x4_sq = x4**2\n",
    "x5_sq = x5**2\n",
    "\n",
    "X = np.c_[x1, x2, x3, x4, x5, x1_sq, x2_sq, x3_sq, x4_sq, x5_sq, np.ones(len(x1))]\n",
    "print(X.shape)"
   ]
  },
  {
   "cell_type": "markdown",
   "id": "0ac3168c",
   "metadata": {},
   "source": [
    "## Custom sgd implementation"
   ]
  },
  {
   "cell_type": "code",
   "execution_count": 3,
   "id": "1f3956ff",
   "metadata": {},
   "outputs": [
    {
     "name": "stdout",
     "output_type": "stream",
     "text": [
      "iteration 1: w = [ 0.17  1.45 -0.25 -1.95  2.09  1.45  0.12  0.14  0.15  0.13  0.51], F(w) = 4.713347217024904\n",
      "iteration 2: w = [ 0.25  1.98 -0.34 -2.68  2.84  1.58  0.07  0.08  0.08  0.08  0.64], F(w) = 1.5584604579315826\n",
      "iteration 3: w = [ 0.28  2.18 -0.38 -2.94  3.13  1.59  0.05  0.05  0.06  0.05  0.75], F(w) = 1.1088771644071682\n",
      "iteration 4: w = [ 0.3   2.25 -0.4  -3.04  3.23  1.58  0.04  0.05  0.04  0.04  0.83], F(w) = 1.0361429414198755\n",
      "iteration 5: w = [ 0.3   2.28 -0.4  -3.07  3.28  1.58  0.03  0.03  0.04  0.03  0.89], F(w) = 1.0193378452377073\n",
      "iteration 6: w = [ 0.31  2.29 -0.41 -3.09  3.29  1.57  0.03  0.03  0.03  0.02  0.94], F(w) = 1.0129879702686486\n",
      "iteration 7: w = [ 0.31  2.29 -0.41 -3.1   3.3   1.56  0.02  0.02  0.02  0.02  0.98], F(w) = 1.0100658697879412\n",
      "iteration 8: w = [ 0.31  2.29 -0.4  -3.1   3.3   1.56  0.01  0.02  0.02  0.01  1.  ], F(w) = 1.008377665487368\n",
      "iteration 9: w = [ 0.3   2.29 -0.41 -3.09  3.3   1.56  0.01  0.01  0.02  0.01  1.03], F(w) = 1.0072686049407138\n",
      "iteration 10: w = [ 0.31  2.29 -0.4  -3.1   3.3   1.55  0.01  0.01  0.01  0.01  1.04], F(w) = 1.0066916345080075\n",
      "iteration 11: w = [ 0.3   2.3  -0.4  -3.09  3.29  1.55 -0.    0.01  0.01  0.01  1.05], F(w) = 1.0065362581158677\n",
      "iteration 12: w = [ 0.3   2.3  -0.41 -3.09  3.29  1.55  0.    0.01  0.01  0.01  1.06], F(w) = 1.0061223376970418\n",
      "iteration 13: w = [ 0.31  2.3  -0.41 -3.1   3.3   1.55 -0.    0.    0.01  0.01  1.07], F(w) = 1.006007368312169\n",
      "iteration 14: w = [ 0.31  2.29 -0.4  -3.09  3.3   1.55 -0.    0.    0.01  0.    1.08], F(w) = 1.0059129101460014\n",
      "iteration 15: w = [ 0.31  2.29 -0.4  -3.09  3.3   1.55  0.    0.    0.01  0.    1.08], F(w) = 1.0058140364335928\n",
      "iteration 16: w = [ 0.31  2.29 -0.4  -3.09  3.3   1.55 -0.    0.    0.01  0.    1.08], F(w) = 1.0057850214358903\n",
      "iteration 17: w = [ 0.31  2.29 -0.41 -3.09  3.3   1.55 -0.    0.    0.    0.01  1.09], F(w) = 1.005776755444217\n",
      "iteration 18: w = [ 0.3   2.29 -0.41 -3.09  3.3   1.55  0.01  0.01  0.01  0.    1.09], F(w) = 1.0059801808356992\n",
      "iteration 19: w = [ 0.3   2.3  -0.4  -3.1   3.3   1.55  0.    0.    0.01  0.    1.09], F(w) = 1.0057718656741796\n",
      "iteration 20: w = [ 0.31  2.29 -0.41 -3.1   3.3   1.54 -0.    0.    0.01  0.    1.09], F(w) = 1.0058603134019224\n",
      "iteration 21: w = [ 0.31  2.29 -0.4  -3.09  3.3   1.54 -0.    0.01  0.01  0.    1.09], F(w) = 1.0057421559825117\n",
      "iteration 22: w = [ 0.31  2.29 -0.4  -3.09  3.3   1.55 -0.    0.    0.    0.    1.09], F(w) = 1.0057125496514445\n",
      "iteration 23: w = [ 0.3   2.29 -0.4  -3.09  3.3   1.54  0.    0.    0.01  0.    1.09], F(w) = 1.0057622924495375\n",
      "iteration 24: w = [ 0.31  2.29 -0.4  -3.09  3.3   1.55  0.    0.01  0.    0.    1.1 ], F(w) = 1.0057278614056655\n",
      "iteration 25: w = [ 0.31  2.29 -0.41 -3.09  3.29  1.55  0.    0.01  0.   -0.    1.1 ], F(w) = 1.005761009237357\n"
     ]
    }
   ],
   "source": [
    "def loss(w):\n",
    "    return sum([(w.dot(x.T) - y) ** 2 for x, y in zip(X, y_true)]) / len(X)\n",
    "\n",
    "def stochastic_dF(w, i):\n",
    "    x, y = X[i], y_true[i]\n",
    "    return (w.dot(x.T)-y)*x\n",
    "\n",
    "def stochastic_gradient_descent(loss, stochastic_dF, n):\n",
    "    w = np.zeros(11)\n",
    "    for t in range(25):\n",
    "        for i in range(n):\n",
    "            j = np.random.randint(0, high=n-1)\n",
    "            gradient = stochastic_dF(w, j)\n",
    "            eta = 0.00001\n",
    "            w -= eta * gradient\n",
    "        print(\"iteration {}: w = {}, F(w) = {}\".format(t+1, np.round(w, 2), loss(w)))\n",
    "\n",
    "stochastic_gradient_descent(loss, stochastic_dF, len(points))"
   ]
  },
  {
   "cell_type": "markdown",
   "id": "88f765be",
   "metadata": {},
   "source": [
    "## You can refer to sklearn for the solution of Logistic Regression part, it is quite straightforward."
   ]
  }
 ],
 "metadata": {
  "kernelspec": {
   "display_name": "bogaziciai",
   "language": "python",
   "name": "python3"
  },
  "language_info": {
   "codemirror_mode": {
    "name": "ipython",
    "version": 3
   },
   "file_extension": ".py",
   "mimetype": "text/x-python",
   "name": "python",
   "nbconvert_exporter": "python",
   "pygments_lexer": "ipython3",
   "version": "3.8.13 (default, Mar 28 2022, 06:16:26) \n[Clang 12.0.0 ]"
  },
  "vscode": {
   "interpreter": {
    "hash": "5fbcc6426ad4bc9ca214ae1f425bad2736b7e48c4b6085fae84f5872fe3b6788"
   }
  }
 },
 "nbformat": 4,
 "nbformat_minor": 5
}
