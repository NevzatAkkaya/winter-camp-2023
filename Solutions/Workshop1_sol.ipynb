{
 "cells": [
  {
   "cell_type": "markdown",
   "id": "0b0077bc",
   "metadata": {},
   "source": [
    "Prepared by: Ömer Coşkun <br>\n",
    "*Quick note: This notebook is prepared to show how an acceptable solution should look like. Better solutions are always possible.*                         "
   ]
  },
  {
   "cell_type": "code",
   "execution_count": 1,
   "id": "59de0021",
   "metadata": {},
   "outputs": [],
   "source": [
    "import warnings\n",
    "warnings.filterwarnings('ignore')\n",
    "import numpy as np\n",
    "import matplotlib.pyplot as plt\n",
    "from sklearn.linear_model import LinearRegression\n",
    "from sklearn.preprocessing import StandardScaler\n",
    "from sklearn.model_selection import train_test_split\n",
    "import pandas as pd\n",
    "from sklearn.preprocessing import PolynomialFeatures\n",
    "import seaborn as sns"
   ]
  },
  {
   "cell_type": "code",
   "execution_count": 2,
   "id": "24585aab",
   "metadata": {},
   "outputs": [
    {
     "data": {
      "text/html": [
       "<div>\n",
       "<style scoped>\n",
       "    .dataframe tbody tr th:only-of-type {\n",
       "        vertical-align: middle;\n",
       "    }\n",
       "\n",
       "    .dataframe tbody tr th {\n",
       "        vertical-align: top;\n",
       "    }\n",
       "\n",
       "    .dataframe thead th {\n",
       "        text-align: right;\n",
       "    }\n",
       "</style>\n",
       "<table border=\"1\" class=\"dataframe\">\n",
       "  <thead>\n",
       "    <tr style=\"text-align: right;\">\n",
       "      <th></th>\n",
       "      <th>No</th>\n",
       "      <th>transactiondate</th>\n",
       "      <th>houseage</th>\n",
       "      <th>distancetostation</th>\n",
       "      <th>numberofstores</th>\n",
       "      <th>latitude</th>\n",
       "      <th>longitude</th>\n",
       "      <th>housepriceofunitarea</th>\n",
       "    </tr>\n",
       "  </thead>\n",
       "  <tbody>\n",
       "    <tr>\n",
       "      <th>0</th>\n",
       "      <td>1</td>\n",
       "      <td>2012.917</td>\n",
       "      <td>32.0</td>\n",
       "      <td>84.87882</td>\n",
       "      <td>10</td>\n",
       "      <td>24.98298</td>\n",
       "      <td>121.54024</td>\n",
       "      <td>37.9</td>\n",
       "    </tr>\n",
       "    <tr>\n",
       "      <th>1</th>\n",
       "      <td>2</td>\n",
       "      <td>2012.917</td>\n",
       "      <td>19.5</td>\n",
       "      <td>306.59470</td>\n",
       "      <td>9</td>\n",
       "      <td>24.98034</td>\n",
       "      <td>121.53951</td>\n",
       "      <td>42.2</td>\n",
       "    </tr>\n",
       "    <tr>\n",
       "      <th>2</th>\n",
       "      <td>3</td>\n",
       "      <td>2013.583</td>\n",
       "      <td>13.3</td>\n",
       "      <td>561.98450</td>\n",
       "      <td>5</td>\n",
       "      <td>24.98746</td>\n",
       "      <td>121.54391</td>\n",
       "      <td>47.3</td>\n",
       "    </tr>\n",
       "    <tr>\n",
       "      <th>3</th>\n",
       "      <td>4</td>\n",
       "      <td>2013.500</td>\n",
       "      <td>13.3</td>\n",
       "      <td>561.98450</td>\n",
       "      <td>5</td>\n",
       "      <td>24.98746</td>\n",
       "      <td>121.54391</td>\n",
       "      <td>54.8</td>\n",
       "    </tr>\n",
       "    <tr>\n",
       "      <th>4</th>\n",
       "      <td>5</td>\n",
       "      <td>2012.833</td>\n",
       "      <td>5.0</td>\n",
       "      <td>390.56840</td>\n",
       "      <td>5</td>\n",
       "      <td>24.97937</td>\n",
       "      <td>121.54245</td>\n",
       "      <td>43.1</td>\n",
       "    </tr>\n",
       "  </tbody>\n",
       "</table>\n",
       "</div>"
      ],
      "text/plain": [
       "   No  transactiondate  houseage  distancetostation  numberofstores  latitude  \\\n",
       "0   1         2012.917      32.0           84.87882              10  24.98298   \n",
       "1   2         2012.917      19.5          306.59470               9  24.98034   \n",
       "2   3         2013.583      13.3          561.98450               5  24.98746   \n",
       "3   4         2013.500      13.3          561.98450               5  24.98746   \n",
       "4   5         2012.833       5.0          390.56840               5  24.97937   \n",
       "\n",
       "   longitude  housepriceofunitarea  \n",
       "0  121.54024                  37.9  \n",
       "1  121.53951                  42.2  \n",
       "2  121.54391                  47.3  \n",
       "3  121.54391                  54.8  \n",
       "4  121.54245                  43.1  "
      ]
     },
     "execution_count": 2,
     "metadata": {},
     "output_type": "execute_result"
    }
   ],
   "source": [
    "df = pd.read_csv('real_estate.csv')\n",
    "df.head()"
   ]
  },
  {
   "cell_type": "markdown",
   "id": "f46476b5",
   "metadata": {},
   "source": [
    "# Task 1\n",
    "\n",
    "In this task, you are expected to:\n",
    "\n",
    "* Make a linear regression analysis.\n",
    "* Use the normal equation for your linear regression analysis to verify your results.\n",
    "* Make a polynomial regression analysis (You can decide on the Nth degree).\n",
    "\n",
    "You can drop the features that you find unnecessary.\n",
    "<br>\n",
    "You can use sklearn module to perform your analysis."
   ]
  },
  {
   "cell_type": "code",
   "execution_count": 3,
   "id": "480a23ea",
   "metadata": {},
   "outputs": [
    {
     "data": {
      "text/plain": [
       "0.5833632616324671"
      ]
     },
     "execution_count": 3,
     "metadata": {},
     "output_type": "execute_result"
    }
   ],
   "source": [
    "X = df.drop(columns=[\"housepriceofunitarea\"])\n",
    "y = df[\"housepriceofunitarea\"]\n",
    "model = LinearRegression()\n",
    "model.fit(X, y)\n",
    "model.score(X, y)"
   ]
  },
  {
   "cell_type": "code",
   "execution_count": 4,
   "id": "c2ff5826",
   "metadata": {},
   "outputs": [
    {
     "data": {
      "text/plain": [
       "0.5711617064827434"
      ]
     },
     "execution_count": 4,
     "metadata": {},
     "output_type": "execute_result"
    }
   ],
   "source": [
    "X = df.drop(columns=[\"housepriceofunitarea\", \"No\", \"transactiondate\"])\n",
    "y = df[\"housepriceofunitarea\"]\n",
    "model = LinearRegression()\n",
    "model.fit(X, y)\n",
    "model.score(X, y)"
   ]
  },
  {
   "cell_type": "markdown",
   "id": "fcb4f9c9",
   "metadata": {},
   "source": [
    "## sklearn"
   ]
  },
  {
   "cell_type": "code",
   "execution_count": 5,
   "id": "4a44f5a6",
   "metadata": {
    "scrolled": false
   },
   "outputs": [
    {
     "name": "stdout",
     "output_type": "stream",
     "text": [
      "r^2: 0.5833632616324671\n",
      "w0: -14038.07978292443\n",
      "w1: -0.0035935012815118787\n",
      "w2: 5.079087316403185\n",
      "w3: -0.2708419593068578\n",
      "w4: -0.0045207901079944435\n",
      "w5: 1.1292774867928073\n",
      "w6: 224.6728922281327\n",
      "w7: -14.423563462462413\n"
     ]
    }
   ],
   "source": [
    "X = df.drop(columns=[\"housepriceofunitarea\"])\n",
    "y = df[\"housepriceofunitarea\"]\n",
    "model = LinearRegression()\n",
    "model.fit(X, y)\n",
    "print(\"r^2:\", model.score(X, y))\n",
    "print(f\"w0: {model.intercept_}\")\n",
    "for i in range(len(model.coef_)):\n",
    "    print(f\"w{i+1}: {model.coef_[i]}\")"
   ]
  },
  {
   "cell_type": "markdown",
   "id": "30b14162",
   "metadata": {},
   "source": [
    "## normal equation"
   ]
  },
  {
   "cell_type": "code",
   "execution_count": 6,
   "id": "ce473b0a",
   "metadata": {},
   "outputs": [
    {
     "name": "stdout",
     "output_type": "stream",
     "text": [
      "r^2: 0.5833632616324693\n",
      "w1: -14038.080688278364\n",
      "w2: -0.0035935012567931417\n",
      "w3: 5.079087340387547\n",
      "w4: -0.2708419591176207\n",
      "w5: -0.0045207900348465556\n",
      "w6: 1.1292774883303165\n",
      "w7: 224.67289280365443\n",
      "w8: -14.42355652934092\n"
     ]
    }
   ],
   "source": [
    "X = df.drop(columns=[\"housepriceofunitarea\"])\n",
    "y_train = df[\"housepriceofunitarea\"]\n",
    "\n",
    "X = np.c_[np.ones(X.shape[0]), X]\n",
    "\n",
    "w = np.linalg.solve(np.dot(X.T,X), np.dot(X.T,y_train))\n",
    "\n",
    "y_average = np.mean(y_train)\n",
    "SSR = sum([(y - w.dot(x.T))**2 for x, y in zip(X, y_train)])\n",
    "SST = sum([(y - y_average)**2 for y in y_train])\n",
    "r2 = 1 - SSR / SST\n",
    "print(\"r^2:\", r2)\n",
    "\n",
    "for i in range(len(w)):\n",
    "    print(f\"w{i+1}: {float(w[i])}\")"
   ]
  },
  {
   "cell_type": "markdown",
   "id": "f3d475cf",
   "metadata": {},
   "source": [
    "## Polynomial Regression"
   ]
  },
  {
   "cell_type": "code",
   "execution_count": 7,
   "id": "e64e9ed4",
   "metadata": {},
   "outputs": [
    {
     "name": "stdout",
     "output_type": "stream",
     "text": [
      "r^2: 0.7122457326689602\n",
      "[-5.14341827e+02  5.72631363e+01 -1.89687226e+04  5.47187601e+02\n",
      "  1.75804297e+01  9.41467510e+03  7.02480238e+05  1.42231813e+06\n",
      "  2.15773324e-05  6.82565102e-03  5.11086759e-04 -3.38389945e-06\n",
      "  2.89503128e-04 -2.16886152e-01 -5.39818423e-01  7.20852259e+00\n",
      "  6.38926828e-02 -2.87688866e-03 -5.57679332e-01 -1.19734808e+02\n",
      " -5.80544147e+01  1.93811244e-02  1.26163999e-05  1.04876027e-02\n",
      " -7.50098847e+00 -4.02924036e+00  2.13279250e-07 -1.54591840e-03\n",
      " -2.92551324e-01 -3.69280833e-02  3.97911684e-03 -1.17185534e+02\n",
      " -4.41387833e+01  2.59701073e+03 -4.85369091e+03 -4.87082019e+03]\n",
      "-76150384.27728881\n"
     ]
    }
   ],
   "source": [
    "X = df.drop(columns=[\"housepriceofunitarea\"])\n",
    "y = df[\"housepriceofunitarea\"]\n",
    "\n",
    "N_poly_degree=2\n",
    "poly = PolynomialFeatures(N_poly_degree)\n",
    "x_transformed=poly.fit_transform(X)\n",
    "x_transformed\n",
    "\n",
    "model = LinearRegression()\n",
    "model.fit(x_transformed, y)\n",
    "print(\"r^2:\", model.score(x_transformed ,y))\n",
    "\n",
    "print(model.coef_)\n",
    "print(model.intercept_)"
   ]
  }
 ],
 "metadata": {
  "kernelspec": {
   "display_name": "bogaziciai",
   "language": "python",
   "name": "python3"
  },
  "language_info": {
   "codemirror_mode": {
    "name": "ipython",
    "version": 3
   },
   "file_extension": ".py",
   "mimetype": "text/x-python",
   "name": "python",
   "nbconvert_exporter": "python",
   "pygments_lexer": "ipython3",
   "version": "3.8.13 (default, Mar 28 2022, 06:16:26) \n[Clang 12.0.0 ]"
  },
  "vscode": {
   "interpreter": {
    "hash": "5fbcc6426ad4bc9ca214ae1f425bad2736b7e48c4b6085fae84f5872fe3b6788"
   }
  }
 },
 "nbformat": 4,
 "nbformat_minor": 5
}
