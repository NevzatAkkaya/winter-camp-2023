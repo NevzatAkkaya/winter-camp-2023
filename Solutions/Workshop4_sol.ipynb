{
 "cells": [
  {
   "cell_type": "markdown",
   "id": "d5a1ab08",
   "metadata": {},
   "source": [
    "Prepared by: Ömer Coşkun <br>\n",
    "*Quick note: This notebook is prepared to show how an acceptable solution should look like. Better solutions are always possible.*                         "
   ]
  },
  {
   "cell_type": "code",
   "execution_count": 1,
   "id": "55d380cb",
   "metadata": {},
   "outputs": [],
   "source": [
    "import warnings\n",
    "warnings.filterwarnings('ignore')\n",
    "\n",
    "import torch\n",
    "from torch import nn\n",
    "import torch.nn.functional as F\n",
    "import torch.optim as optim\n",
    "\n",
    "from sklearn.datasets import make_moons\n",
    "from sklearn.preprocessing import StandardScaler\n",
    "from sklearn.model_selection import train_test_split\n",
    "\n",
    "import matplotlib.pyplot as plt\n",
    "from matplotlib.colors import ListedColormap\n",
    "\n",
    "import numpy as np\n",
    "\n",
    "import torchvision.datasets as datasets \n",
    "import torchvision.transforms as transforms\n",
    "import time"
   ]
  },
  {
   "cell_type": "code",
   "execution_count": 2,
   "id": "36df3832",
   "metadata": {},
   "outputs": [
    {
     "name": "stdout",
     "output_type": "stream",
     "text": [
      "Using cpu device\n"
     ]
    }
   ],
   "source": [
    "device = \"cuda\" if torch.cuda.is_available() else \"cpu\"\n",
    "print(\"Using {} device\".format(device))"
   ]
  },
  {
   "cell_type": "markdown",
   "id": "48d7879d",
   "metadata": {},
   "source": [
    "# MNIST HAND WRITTEN NUMBER"
   ]
  },
  {
   "cell_type": "markdown",
   "id": "a6395655",
   "metadata": {},
   "source": [
    "Define various neural network structures with tanh, sigmoid, linear, relu, define number of neurons in each layer and forward the input data to one-hot-coding for numbers 0-9. **You are NOT expected to use Convolution Layers!** <br>\n",
    "*Hint: Input files are 28x28 images.*\n",
    "<br>\n",
    "*Hint: Use .view method in the forward function to make a column vector from 28x28 image*\n"
   ]
  },
  {
   "cell_type": "code",
   "execution_count": 3,
   "id": "4a41fbba",
   "metadata": {},
   "outputs": [],
   "source": [
    "class Net(nn.Module):\n",
    "    def __init__(self):\n",
    "        super(Net,self).__init__()\n",
    "        self.layer1 = nn.Linear(28*28, 256)\n",
    "        self.layer2 = nn.Linear(256, 128)\n",
    "        self.layer3 = nn.Linear(128, 64)\n",
    "        self.layer4 = nn.Linear(64, 10)\n",
    "\n",
    "    def forward(self, img): #convert + flatten\n",
    "        \n",
    "        img = img.view(img.size(0), -1)\n",
    "        img = F.relu(self.layer1(img))\n",
    "        img = F.relu(self.layer2(img))\n",
    "        img = F.relu(self.layer3(img))\n",
    "        x = self.layer4(img)\n",
    "        \n",
    "        return x"
   ]
  },
  {
   "cell_type": "code",
   "execution_count": 4,
   "id": "2adbcc61",
   "metadata": {},
   "outputs": [],
   "source": [
    "## Normalization and create a tensor for a training/test set \n",
    "\n",
    "transform = transforms.Compose([transforms.ToTensor(), transforms.Normalize((0.5,), (0.5,))])\n",
    "\n",
    "\n",
    "mnist_trainset = datasets.MNIST(root='./data', train=True, download=True, transform=transform)\n",
    "mnist_testset = datasets.MNIST(root='./data', train=False, download=True, transform=transform)"
   ]
  },
  {
   "cell_type": "code",
   "execution_count": 5,
   "id": "67a6f231",
   "metadata": {
    "scrolled": false
   },
   "outputs": [
    {
     "name": "stdout",
     "output_type": "stream",
     "text": [
      "[1,    20] training loss: 0.45313\n",
      "[1,    40] training loss: 0.42955\n",
      "[1,    60] training loss: 0.38831\n",
      "[1,    80] training loss: 0.33172\n",
      "[1,   100] training loss: 0.26909\n",
      "for this epoch time passed: 6.2078328132629395\n",
      "[2,    20] training loss: 0.17996\n",
      "[2,    40] training loss: 0.15784\n",
      "[2,    60] training loss: 0.13808\n",
      "[2,    80] training loss: 0.12501\n",
      "[2,   100] training loss: 0.11513\n",
      "for this epoch time passed: 6.099910736083984\n",
      "[3,    20] training loss: 0.10107\n",
      "[3,    40] training loss: 0.09496\n",
      "[3,    60] training loss: 0.09024\n",
      "[3,    80] training loss: 0.08591\n",
      "[3,   100] training loss: 0.08559\n",
      "for this epoch time passed: 6.00215220451355\n",
      "[4,    20] training loss: 0.07691\n",
      "[4,    40] training loss: 0.07439\n",
      "[4,    60] training loss: 0.07476\n",
      "[4,    80] training loss: 0.07265\n",
      "[4,   100] training loss: 0.07343\n",
      "for this epoch time passed: 6.0715720653533936\n",
      "[5,    20] training loss: 0.06800\n",
      "[5,    40] training loss: 0.06452\n",
      "[5,    60] training loss: 0.06824\n",
      "[5,    80] training loss: 0.06465\n",
      "[5,   100] training loss: 0.06631\n",
      "for this epoch time passed: 6.081891059875488\n",
      "[6,    20] training loss: 0.06311\n",
      "[6,    40] training loss: 0.06450\n",
      "[6,    60] training loss: 0.05954\n",
      "[6,    80] training loss: 0.06034\n",
      "[6,   100] training loss: 0.06016\n",
      "for this epoch time passed: 6.088400840759277\n",
      "[7,    20] training loss: 0.05807\n",
      "[7,    40] training loss: 0.05782\n",
      "[7,    60] training loss: 0.05614\n",
      "[7,    80] training loss: 0.05566\n",
      "[7,   100] training loss: 0.05651\n",
      "for this epoch time passed: 6.111953020095825\n",
      "[8,    20] training loss: 0.05435\n",
      "[8,    40] training loss: 0.05380\n",
      "[8,    60] training loss: 0.05278\n",
      "[8,    80] training loss: 0.05298\n",
      "[8,   100] training loss: 0.05421\n",
      "for this epoch time passed: 6.067804336547852\n",
      "[9,    20] training loss: 0.05217\n",
      "[9,    40] training loss: 0.05128\n",
      "[9,    60] training loss: 0.04961\n",
      "[9,    80] training loss: 0.05077\n",
      "[9,   100] training loss: 0.04825\n",
      "for this epoch time passed: 6.120220899581909\n",
      "[10,    20] training loss: 0.04809\n",
      "[10,    40] training loss: 0.04951\n",
      "[10,    60] training loss: 0.04578\n",
      "[10,    80] training loss: 0.04573\n",
      "[10,   100] training loss: 0.04816\n",
      "for this epoch time passed: 6.1177520751953125\n",
      "[11,    20] training loss: 0.04550\n",
      "[11,    40] training loss: 0.04424\n",
      "[11,    60] training loss: 0.04390\n",
      "[11,    80] training loss: 0.04635\n",
      "[11,   100] training loss: 0.04225\n",
      "for this epoch time passed: 6.070085287094116\n",
      "[12,    20] training loss: 0.04460\n",
      "[12,    40] training loss: 0.04311\n",
      "[12,    60] training loss: 0.04236\n",
      "[12,    80] training loss: 0.04099\n",
      "[12,   100] training loss: 0.03923\n",
      "for this epoch time passed: 6.09263014793396\n",
      "[13,    20] training loss: 0.04161\n",
      "[13,    40] training loss: 0.04122\n",
      "[13,    60] training loss: 0.04026\n",
      "[13,    80] training loss: 0.03730\n",
      "[13,   100] training loss: 0.03847\n",
      "for this epoch time passed: 6.080071926116943\n",
      "[14,    20] training loss: 0.03916\n",
      "[14,    40] training loss: 0.03712\n",
      "[14,    60] training loss: 0.03539\n",
      "[14,    80] training loss: 0.03852\n",
      "[14,   100] training loss: 0.03621\n",
      "for this epoch time passed: 6.10795783996582\n",
      "[15,    20] training loss: 0.03530\n",
      "[15,    40] training loss: 0.03448\n",
      "[15,    60] training loss: 0.03586\n",
      "[15,    80] training loss: 0.03549\n",
      "[15,   100] training loss: 0.03769\n",
      "for this epoch time passed: 6.092864036560059\n",
      "Finished Training\n"
     ]
    }
   ],
   "source": [
    "model = Net().to(device)\n",
    "\n",
    "calculate_loss = nn.CrossEntropyLoss()\n",
    "optimizer =  optim.Adam(model.parameters(), lr=0.0001)\n",
    "batch_size = 512\n",
    "epoch = 15\n",
    "\n",
    "train_loader = torch.utils.data.DataLoader(mnist_trainset, batch_size=batch_size, shuffle=True)\n",
    "test_loader = torch.utils.data.DataLoader(mnist_testset, batch_size=batch_size, shuffle=True)\n",
    "\n",
    "for epoch in range(epoch):\n",
    "    running_loss = 0.0\n",
    "    start = time.time() #record run TIME\n",
    "    \n",
    "    for i,data in enumerate(train_loader): #In each epoch iterate the training data in the loader\n",
    "        inputs, labels = data\n",
    "        inputs, labels = inputs.to(device), labels.to(device)\n",
    "        \n",
    "        optimizer.zero_grad()  #Sets the gradients of all optimized torch.Tensor s to zero.\n",
    "        output = model(inputs.view(-1, 28*28))\n",
    "        loss = calculate_loss(output, labels) #calculate a loss for backpropogation\n",
    "        loss.backward()\n",
    "        optimizer.step()\n",
    "        \n",
    "        running_loss += loss.item()\n",
    "        if i % 20 == 19:    # print every 20 mini-batches\n",
    "            print('[%d, %5d] training loss: %.5f' %\n",
    "            (epoch + 1, i + 1, running_loss / 100))\n",
    "            running_loss = 0.0\n",
    "    end=time.time()\n",
    "    print(\"for this epoch time passed:\", end-start)\n",
    "        \n",
    "print('Finished Training')"
   ]
  },
  {
   "cell_type": "code",
   "execution_count": 6,
   "id": "32d501ef",
   "metadata": {
    "scrolled": false
   },
   "outputs": [
    {
     "name": "stdout",
     "output_type": "stream",
     "text": [
      "accuracy: 0.948\n"
     ]
    }
   ],
   "source": [
    "correct =0\n",
    "total=0\n",
    "\n",
    "# Calculate predictions in test data. Call the model. Take the maximum value in one hot coding for 0-9. \n",
    "\n",
    "with torch.no_grad():  #The wrapper with torch.no_grad() temporarily sets all of the requires_grad flags to false\n",
    "    for data in test_loader:\n",
    "        inputs, labels = data\n",
    "        output = model(inputs.to(device).view(-1, 784))\n",
    "        for idx, i in enumerate(output):\n",
    "            if torch.argmax(i) == labels[idx]:\n",
    "                correct +=1\n",
    "            total +=1\n",
    "print(f'accuracy: {round(correct/total, 3)}')"
   ]
  },
  {
   "cell_type": "code",
   "execution_count": 7,
   "id": "66f639a5",
   "metadata": {},
   "outputs": [],
   "source": [
    "## This function takes a loader, NN model structure, Nth batch selection for either train or test and returns  \n",
    "## Nth batch data for plotting and debugging\n",
    "\n",
    "\n",
    "def TakesamplesfromNthBatch(loader,N,model):\n",
    "    \n",
    "    inputsout=[]\n",
    "    labelsout=[]\n",
    "    \n",
    "    for i,data in enumerate(train_loader):\n",
    "        inputs, labels = data\n",
    "        inputsout=inputs.squeeze().numpy()\n",
    "        labelsout=labels.numpy()    \n",
    "           \n",
    "        if i==N:\n",
    "            prediction = model(inputs.to(device).view(-1, 784))\n",
    "            predictionout = np.argmax(prediction.detach().cpu().numpy(),axis=1) \n",
    "            break\n",
    "\n",
    "    return inputsout, labelsout, predictionout"
   ]
  },
  {
   "cell_type": "code",
   "execution_count": 8,
   "id": "f91ae6d6",
   "metadata": {},
   "outputs": [
    {
     "name": "stdout",
     "output_type": "stream",
     "text": [
      "Batch_Size=  512\n",
      "True Label = 0 \n",
      "True Label = 9 \n",
      "True Label = 4 \n",
      "True Label = 7 \n",
      "True Label = 4 \n"
     ]
    },
    {
     "data": {
      "image/png": "[encoded data removed]",
      "text/plain": [
       "<Figure size 432x288 with 1 Axes>"
      ]
     },
     "metadata": {
      "needs_background": "light"
     },
     "output_type": "display_data"
    },
    {
     "data": {
      "image/png": "[encoded data removed]",
      "text/plain": [
       "<Figure size 432x288 with 1 Axes>"
      ]
     },
     "metadata": {
      "needs_background": "light"
     },
     "output_type": "display_data"
    },
    {
     "data": {
      "image/png": "[encoded data removed]",
      "text/plain": [
       "<Figure size 432x288 with 1 Axes>"
      ]
     },
     "metadata": {
      "needs_background": "light"
     },
     "output_type": "display_data"
    },
    {
     "data": {
      "image/png": "[encoded data removed]",
      "text/plain": [
       "<Figure size 432x288 with 1 Axes>"
      ]
     },
     "metadata": {
      "needs_background": "light"
     },
     "output_type": "display_data"
    },
    {
     "data": {
      "image/png": "[encoded data removed]",
      "text/plain": [
       "<Figure size 432x288 with 1 Axes>"
      ]
     },
     "metadata": {
      "needs_background": "light"
     },
     "output_type": "display_data"
    }
   ],
   "source": [
    "#Get some training or test data samples to visualize the predictions.\n",
    "\n",
    "trial_input,trial_labels,trial_prediction = TakesamplesfromNthBatch(train_loader,1,model)\n",
    "print('Batch_Size= ', batch_size)\n",
    "\n",
    "numberIntheBatch=0 # should be less than batch_size used in loader.\n",
    "Nofexamples=5\n",
    "for i in range(Nofexamples):    \n",
    "    \n",
    "    plt.figure()\n",
    "    imgplot = plt.imshow(trial_input[numberIntheBatch])\n",
    "    plt.title(' NN prediction = %i'  %trial_prediction[numberIntheBatch])\n",
    "    print('True Label = %i ' %trial_labels[numberIntheBatch])\n",
    "    numberIntheBatch=numberIntheBatch+1 # should be less than batch_size used in loader."
   ]
  },
  {
   "cell_type": "code",
   "execution_count": null,
   "id": "88a38da8",
   "metadata": {},
   "outputs": [],
   "source": []
  }
 ],
 "metadata": {
  "kernelspec": {
   "display_name": "bogaziciai",
   "language": "python",
   "name": "python3"
  },
  "language_info": {
   "codemirror_mode": {
    "name": "ipython",
    "version": 3
   },
   "file_extension": ".py",
   "mimetype": "text/x-python",
   "name": "python",
   "nbconvert_exporter": "python",
   "pygments_lexer": "ipython3",
   "version": "3.8.13 (default, Mar 28 2022, 06:16:26) \n[Clang 12.0.0 ]"
  },
  "vscode": {
   "interpreter": {
    "hash": "5fbcc6426ad4bc9ca214ae1f425bad2736b7e48c4b6085fae84f5872fe3b6788"
   }
  }
 },
 "nbformat": 4,
 "nbformat_minor": 5
}
