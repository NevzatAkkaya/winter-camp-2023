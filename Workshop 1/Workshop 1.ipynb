{
 "cells": [
  {
   "cell_type": "markdown",
   "id": "40cb8646",
   "metadata": {},
   "source": [
    "<center><h1>bogaziciAI Winter Camp</h1></center>\n",
    "<center><h2>Workshop 1</h2></center>"
   ]
  },
  {
   "cell_type": "markdown",
   "id": "e2f25a9d",
   "metadata": {},
   "source": [
    "<center><h3>Grading Table</h3></center>"
   ]
  },
  {
   "cell_type": "markdown",
   "id": "0db49ba8",
   "metadata": {},
   "source": [
    "|             | Part 1 | Part 2      | Part 3 | General Otline      | Total |\n",
    "| ----------- | ----------- | ----------- | ----------- | ----------- | ----------- |\n",
    "| **Points**      | 30     | 30          | 30     | 10                  | 100   |"
   ]
  },
  {
   "cell_type": "code",
   "execution_count": 2,
   "id": "8ba3f3b7",
   "metadata": {},
   "outputs": [],
   "source": [
    "import warnings\n",
    "warnings.filterwarnings('ignore')\n",
    "\n",
    "# fundamental modules\n",
    "import numpy as np\n",
    "import pandas as pd\n",
    "\n",
    "# sklearn\n",
    "from sklearn.preprocessing import PolynomialFeatures\n",
    "from sklearn.linear_model import LinearRegression\n",
    "from sklearn.model_selection import train_test_split\n",
    "from sklearn.preprocessing import StandardScaler\n",
    "\n",
    "# you can use for visualization\n",
    "import seaborn as sns\n",
    "import matplotlib.pyplot as plt\n",
    "\n",
    "# you can import any additional module you like"
   ]
  },
  {
   "cell_type": "code",
   "execution_count": 3,
   "id": "0b60f3ce",
   "metadata": {},
   "outputs": [
    {
     "data": {
      "text/html": [
       "<div>\n",
       "<style scoped>\n",
       "    .dataframe tbody tr th:only-of-type {\n",
       "        vertical-align: middle;\n",
       "    }\n",
       "\n",
       "    .dataframe tbody tr th {\n",
       "        vertical-align: top;\n",
       "    }\n",
       "\n",
       "    .dataframe thead th {\n",
       "        text-align: right;\n",
       "    }\n",
       "</style>\n",
       "<table border=\"1\" class=\"dataframe\">\n",
       "  <thead>\n",
       "    <tr style=\"text-align: right;\">\n",
       "      <th></th>\n",
       "      <th>No</th>\n",
       "      <th>transactiondate</th>\n",
       "      <th>houseage</th>\n",
       "      <th>distancetostation</th>\n",
       "      <th>numberofstores</th>\n",
       "      <th>latitude</th>\n",
       "      <th>longitude</th>\n",
       "      <th>housepriceofunitarea</th>\n",
       "    </tr>\n",
       "  </thead>\n",
       "  <tbody>\n",
       "    <tr>\n",
       "      <th>0</th>\n",
       "      <td>1</td>\n",
       "      <td>2012.917</td>\n",
       "      <td>32.0</td>\n",
       "      <td>84.87882</td>\n",
       "      <td>10</td>\n",
       "      <td>24.98298</td>\n",
       "      <td>121.54024</td>\n",
       "      <td>37.9</td>\n",
       "    </tr>\n",
       "    <tr>\n",
       "      <th>1</th>\n",
       "      <td>2</td>\n",
       "      <td>2012.917</td>\n",
       "      <td>19.5</td>\n",
       "      <td>306.59470</td>\n",
       "      <td>9</td>\n",
       "      <td>24.98034</td>\n",
       "      <td>121.53951</td>\n",
       "      <td>42.2</td>\n",
       "    </tr>\n",
       "    <tr>\n",
       "      <th>2</th>\n",
       "      <td>3</td>\n",
       "      <td>2013.583</td>\n",
       "      <td>13.3</td>\n",
       "      <td>561.98450</td>\n",
       "      <td>5</td>\n",
       "      <td>24.98746</td>\n",
       "      <td>121.54391</td>\n",
       "      <td>47.3</td>\n",
       "    </tr>\n",
       "    <tr>\n",
       "      <th>3</th>\n",
       "      <td>4</td>\n",
       "      <td>2013.500</td>\n",
       "      <td>13.3</td>\n",
       "      <td>561.98450</td>\n",
       "      <td>5</td>\n",
       "      <td>24.98746</td>\n",
       "      <td>121.54391</td>\n",
       "      <td>54.8</td>\n",
       "    </tr>\n",
       "    <tr>\n",
       "      <th>4</th>\n",
       "      <td>5</td>\n",
       "      <td>2012.833</td>\n",
       "      <td>5.0</td>\n",
       "      <td>390.56840</td>\n",
       "      <td>5</td>\n",
       "      <td>24.97937</td>\n",
       "      <td>121.54245</td>\n",
       "      <td>43.1</td>\n",
       "    </tr>\n",
       "  </tbody>\n",
       "</table>\n",
       "</div>"
      ],
      "text/plain": [
       "   No  transactiondate  houseage  distancetostation  numberofstores  latitude  \\\n",
       "0   1         2012.917      32.0           84.87882              10  24.98298   \n",
       "1   2         2012.917      19.5          306.59470               9  24.98034   \n",
       "2   3         2013.583      13.3          561.98450               5  24.98746   \n",
       "3   4         2013.500      13.3          561.98450               5  24.98746   \n",
       "4   5         2012.833       5.0          390.56840               5  24.97937   \n",
       "\n",
       "   longitude  housepriceofunitarea  \n",
       "0  121.54024                  37.9  \n",
       "1  121.53951                  42.2  \n",
       "2  121.54391                  47.3  \n",
       "3  121.54391                  54.8  \n",
       "4  121.54245                  43.1  "
      ]
     },
     "execution_count": 3,
     "metadata": {},
     "output_type": "execute_result"
    }
   ],
   "source": [
    "df = pd.read_csv('real_estate.csv')\n",
    "df.head()"
   ]
  },
  {
   "cell_type": "markdown",
   "id": "6721f9ff",
   "metadata": {},
   "source": [
    "# Task\n",
    "\n",
    "In this task, you are expected to:\n",
    "\n",
    "* Make a linear regression analysis.\n",
    "* Use the normal equation for your linear regression analysis to verify your results.\n",
    "* Make a polynomial regression analysis (You can decide on the Nth degree).\n",
    "\n",
    "<br>\n",
    "You can drop the features that you find unnecessary.\n",
    "<br>\n",
    "You can use sklearn module to perform your analysis.\n",
    "<br> \n",
    "It is advised to explore and visualize the dataset first."
   ]
  },
  {
   "cell_type": "markdown",
   "id": "1a5662ba",
   "metadata": {},
   "source": [
    "# Part 1"
   ]
  },
  {
   "cell_type": "code",
   "execution_count": 5,
   "id": "ad5493fe",
   "metadata": {},
   "outputs": [],
   "source": [
    "features_1 = ['transactiondate', 'houseage', 'distancetostation', 'numberofstores', 'latitude']\n",
    "features_2 = ['houseage', 'distancetostation', 'numberofstores', 'latitude', 'longitude']\n",
    "X = df[features_1]\n",
    "y = df[\"housepriceofunitarea\"]"
   ]
  },
  {
   "cell_type": "code",
   "execution_count": 6,
   "id": "8e19a1b0",
   "metadata": {},
   "outputs": [],
   "source": [
    "train_X, val_X, train_y, val_y = train_test_split(X, y, random_state=2)"
   ]
  },
  {
   "cell_type": "code",
   "execution_count": 34,
   "id": "b04f3df0",
   "metadata": {},
   "outputs": [
    {
     "data": {
      "text/plain": [
       "0.5611229827842594"
      ]
     },
     "execution_count": 34,
     "metadata": {},
     "output_type": "execute_result"
    }
   ],
   "source": [
    "poly = PolynomialFeatures(3)\n",
    "poly_X = poly.fit_transform(train_X)\n",
    "poly_model = LinearRegression()\n",
    "poly_model.fit(poly_X, train_y)\n",
    "val = poly.transform(val_X)\n",
    "poly_model.score(val, val_y)q"
   ]
  },
  {
   "cell_type": "code",
   "execution_count": 10,
   "id": "ba65c3b1",
   "metadata": {},
   "outputs": [],
   "source": [
    "y_hat = poly_model.predict(val)"
   ]
  },
  {
   "cell_type": "code",
   "execution_count": 13,
   "id": "00961acd",
   "metadata": {},
   "outputs": [],
   "source": [
    "SSR = np.sum((val_y-y_hat))**2"
   ]
  },
  {
   "cell_type": "code",
   "execution_count": 19,
   "id": "944de112",
   "metadata": {},
   "outputs": [
    {
     "data": {
      "text/plain": [
       "4516825921.909951"
      ]
     },
     "execution_count": 19,
     "metadata": {},
     "output_type": "execute_result"
    }
   ],
   "source": [
    "SSR"
   ]
  },
  {
   "cell_type": "code",
   "execution_count": 14,
   "id": "51678aa4",
   "metadata": {},
   "outputs": [],
   "source": [
    "SST = np.sum((val_y - np.mean(val_y))**2)"
   ]
  },
  {
   "cell_type": "code",
   "execution_count": 21,
   "id": "da0a54ec",
   "metadata": {
    "scrolled": true
   },
   "outputs": [
    {
     "data": {
      "text/plain": [
       "24142.81221153846"
      ]
     },
     "execution_count": 21,
     "metadata": {},
     "output_type": "execute_result"
    }
   ],
   "source": [
    "SST"
   ]
  },
  {
   "cell_type": "code",
   "execution_count": 16,
   "id": "d43c80d7",
   "metadata": {},
   "outputs": [
    {
     "data": {
      "text/plain": [
       "-187086.81240286687"
      ]
     },
     "execution_count": 16,
     "metadata": {},
     "output_type": "execute_result"
    }
   ],
   "source": [
    "1 - SSR / SST"
   ]
  },
  {
   "cell_type": "markdown",
   "id": "00358a91",
   "metadata": {},
   "source": [
    "# Part 2"
   ]
  },
  {
   "cell_type": "code",
   "execution_count": 35,
   "id": "552ad3a1",
   "metadata": {},
   "outputs": [],
   "source": [
    "X = df.drop(\"housepriceofunitarea\",axis=1)"
   ]
  },
  {
   "cell_type": "code",
   "execution_count": 36,
   "id": "44e7f1a5",
   "metadata": {},
   "outputs": [],
   "source": [
    "y = df[\"housepriceofunitarea\"]"
   ]
  },
  {
   "cell_type": "code",
   "execution_count": 37,
   "id": "c20438aa",
   "metadata": {},
   "outputs": [
    {
     "data": {
      "text/plain": [
       "(414, 35)"
      ]
     },
     "execution_count": 37,
     "metadata": {},
     "output_type": "execute_result"
    }
   ],
   "source": [
    "polynomial_converter = PolynomialFeatures(degree =2, include_bias =False)\n",
    "polynomial_converter.fit(X)\n",
    "poly_features = polynomial_converter.transform(X)\n",
    "poly_features.shape"
   ]
  },
  {
   "cell_type": "code",
   "execution_count": 63,
   "id": "01250833",
   "metadata": {},
   "outputs": [
    {
     "data": {
      "text/plain": [
       "(289, 35)"
      ]
     },
     "execution_count": 63,
     "metadata": {},
     "output_type": "execute_result"
    }
   ],
   "source": [
    "X_train, X_test, y_train, y_test = train_test_split(poly_features, y, test_size = 0.3, random_state = 10)\n",
    "X_train.shape"
   ]
  },
  {
   "cell_type": "code",
   "execution_count": 64,
   "id": "1011feab",
   "metadata": {
    "scrolled": true
   },
   "outputs": [
    {
     "name": "stdout",
     "output_type": "stream",
     "text": [
      "0.7127377825607366\n",
      "0.6730313475487504\n"
     ]
    }
   ],
   "source": [
    "model_poly = LinearRegression()\n",
    "model_poly.fit(X_train, y_train)\n",
    "print(model_poly.score(X_train, y_train))\n",
    "print(model_poly.score(X_test, y_test))"
   ]
  },
  {
   "cell_type": "code",
   "execution_count": null,
   "id": "dab8d54f",
   "metadata": {},
   "outputs": [],
   "source": []
  },
  {
   "cell_type": "markdown",
   "id": "85cb12f5",
   "metadata": {},
   "source": [
    "# Part 3"
   ]
  },
  {
   "cell_type": "code",
   "execution_count": null,
   "id": "a96c5f46",
   "metadata": {},
   "outputs": [],
   "source": []
  },
  {
   "cell_type": "code",
   "execution_count": null,
   "id": "087dd83a",
   "metadata": {},
   "outputs": [],
   "source": []
  }
 ],
 "metadata": {
  "kernelspec": {
   "display_name": "Python 3 (ipykernel)",
   "language": "python",
   "name": "python3"
  },
  "language_info": {
   "codemirror_mode": {
    "name": "ipython",
    "version": 3
   },
   "file_extension": ".py",
   "mimetype": "text/x-python",
   "name": "python",
   "nbconvert_exporter": "python",
   "pygments_lexer": "ipython3",
   "version": "3.8.13"
  }
 },
 "nbformat": 4,
 "nbformat_minor": 5
}
